{
 "cells": [
  {
   "cell_type": "code",
   "execution_count": 33,
   "metadata": {},
   "outputs": [],
   "source": [
    "import pandas as pd\n",
    "import numpy as np\n",
    "from sklearn.linear_model import LinearRegression\n",
    "from sklearn.tree import DecisionTreeRegressor\n",
    "from sklearn.svm import SVR\n",
    "from sklearn.model_selection import train_test_split"
   ]
  },
  {
   "cell_type": "code",
   "execution_count": 34,
   "metadata": {},
   "outputs": [
    {
     "data": {
      "text/plain": [
       "'C:\\\\Users\\\\Owner'"
      ]
     },
     "execution_count": 34,
     "metadata": {},
     "output_type": "execute_result"
    }
   ],
   "source": [
    "pwd"
   ]
  },
  {
   "cell_type": "code",
   "execution_count": 35,
   "metadata": {},
   "outputs": [
    {
     "data": {
      "text/html": [
       "<div>\n",
       "<style scoped>\n",
       "    .dataframe tbody tr th:only-of-type {\n",
       "        vertical-align: middle;\n",
       "    }\n",
       "\n",
       "    .dataframe tbody tr th {\n",
       "        vertical-align: top;\n",
       "    }\n",
       "\n",
       "    .dataframe thead th {\n",
       "        text-align: right;\n",
       "    }\n",
       "</style>\n",
       "<table border=\"1\" class=\"dataframe\">\n",
       "  <thead>\n",
       "    <tr style=\"text-align: right;\">\n",
       "      <th></th>\n",
       "      <th>Date</th>\n",
       "      <th>Open</th>\n",
       "      <th>High</th>\n",
       "      <th>Low</th>\n",
       "      <th>Close</th>\n",
       "      <th>Adj Close</th>\n",
       "      <th>Volume</th>\n",
       "    </tr>\n",
       "  </thead>\n",
       "  <tbody>\n",
       "    <tr>\n",
       "      <th>0</th>\n",
       "      <td>8/8/2008</td>\n",
       "      <td>76.779999</td>\n",
       "      <td>81.209999</td>\n",
       "      <td>76.290001</td>\n",
       "      <td>80.510002</td>\n",
       "      <td>80.510002</td>\n",
       "      <td>9162700</td>\n",
       "    </tr>\n",
       "    <tr>\n",
       "      <th>1</th>\n",
       "      <td>8/11/2008</td>\n",
       "      <td>80.180000</td>\n",
       "      <td>91.750000</td>\n",
       "      <td>79.779999</td>\n",
       "      <td>88.089996</td>\n",
       "      <td>88.089996</td>\n",
       "      <td>25070200</td>\n",
       "    </tr>\n",
       "    <tr>\n",
       "      <th>2</th>\n",
       "      <td>8/12/2008</td>\n",
       "      <td>87.320000</td>\n",
       "      <td>88.480003</td>\n",
       "      <td>86.099998</td>\n",
       "      <td>87.250000</td>\n",
       "      <td>87.250000</td>\n",
       "      <td>8026500</td>\n",
       "    </tr>\n",
       "    <tr>\n",
       "      <th>3</th>\n",
       "      <td>8/13/2008</td>\n",
       "      <td>86.279999</td>\n",
       "      <td>88.250000</td>\n",
       "      <td>84.540001</td>\n",
       "      <td>86.690002</td>\n",
       "      <td>86.690002</td>\n",
       "      <td>7208800</td>\n",
       "    </tr>\n",
       "    <tr>\n",
       "      <th>4</th>\n",
       "      <td>8/14/2008</td>\n",
       "      <td>85.709999</td>\n",
       "      <td>88.750000</td>\n",
       "      <td>85.220001</td>\n",
       "      <td>88.029999</td>\n",
       "      <td>88.029999</td>\n",
       "      <td>6901700</td>\n",
       "    </tr>\n",
       "    <tr>\n",
       "      <th>...</th>\n",
       "      <td>...</td>\n",
       "      <td>...</td>\n",
       "      <td>...</td>\n",
       "      <td>...</td>\n",
       "      <td>...</td>\n",
       "      <td>...</td>\n",
       "      <td>...</td>\n",
       "    </tr>\n",
       "    <tr>\n",
       "      <th>1984</th>\n",
       "      <td>6/27/2016</td>\n",
       "      <td>692.010010</td>\n",
       "      <td>696.820007</td>\n",
       "      <td>682.119995</td>\n",
       "      <td>691.359985</td>\n",
       "      <td>691.359985</td>\n",
       "      <td>5568000</td>\n",
       "    </tr>\n",
       "    <tr>\n",
       "      <th>1985</th>\n",
       "      <td>6/28/2016</td>\n",
       "      <td>700.000000</td>\n",
       "      <td>708.000000</td>\n",
       "      <td>698.169983</td>\n",
       "      <td>707.950012</td>\n",
       "      <td>707.950012</td>\n",
       "      <td>4037000</td>\n",
       "    </tr>\n",
       "    <tr>\n",
       "      <th>1986</th>\n",
       "      <td>6/29/2016</td>\n",
       "      <td>715.750000</td>\n",
       "      <td>719.500000</td>\n",
       "      <td>713.539978</td>\n",
       "      <td>715.599976</td>\n",
       "      <td>715.599976</td>\n",
       "      <td>3070100</td>\n",
       "    </tr>\n",
       "    <tr>\n",
       "      <th>1987</th>\n",
       "      <td>6/30/2016</td>\n",
       "      <td>717.200012</td>\n",
       "      <td>719.369995</td>\n",
       "      <td>712.539978</td>\n",
       "      <td>715.619995</td>\n",
       "      <td>715.619995</td>\n",
       "      <td>2855100</td>\n",
       "    </tr>\n",
       "    <tr>\n",
       "      <th>1988</th>\n",
       "      <td>7/1/2016</td>\n",
       "      <td>717.320007</td>\n",
       "      <td>728.000000</td>\n",
       "      <td>716.539978</td>\n",
       "      <td>725.679993</td>\n",
       "      <td>725.679993</td>\n",
       "      <td>2920400</td>\n",
       "    </tr>\n",
       "  </tbody>\n",
       "</table>\n",
       "<p>1989 rows × 7 columns</p>\n",
       "</div>"
      ],
      "text/plain": [
       "           Date        Open        High         Low       Close   Adj Close  \\\n",
       "0      8/8/2008   76.779999   81.209999   76.290001   80.510002   80.510002   \n",
       "1     8/11/2008   80.180000   91.750000   79.779999   88.089996   88.089996   \n",
       "2     8/12/2008   87.320000   88.480003   86.099998   87.250000   87.250000   \n",
       "3     8/13/2008   86.279999   88.250000   84.540001   86.690002   86.690002   \n",
       "4     8/14/2008   85.709999   88.750000   85.220001   88.029999   88.029999   \n",
       "...         ...         ...         ...         ...         ...         ...   \n",
       "1984  6/27/2016  692.010010  696.820007  682.119995  691.359985  691.359985   \n",
       "1985  6/28/2016  700.000000  708.000000  698.169983  707.950012  707.950012   \n",
       "1986  6/29/2016  715.750000  719.500000  713.539978  715.599976  715.599976   \n",
       "1987  6/30/2016  717.200012  719.369995  712.539978  715.619995  715.619995   \n",
       "1988   7/1/2016  717.320007  728.000000  716.539978  725.679993  725.679993   \n",
       "\n",
       "        Volume  \n",
       "0      9162700  \n",
       "1     25070200  \n",
       "2      8026500  \n",
       "3      7208800  \n",
       "4      6901700  \n",
       "...        ...  \n",
       "1984   5568000  \n",
       "1985   4037000  \n",
       "1986   3070100  \n",
       "1987   2855100  \n",
       "1988   2920400  \n",
       "\n",
       "[1989 rows x 7 columns]"
      ]
     },
     "execution_count": 35,
     "metadata": {},
     "output_type": "execute_result"
    }
   ],
   "source": [
    "df = pd.read_csv(r\"C:\\\\Users\\\\Owner\\Desktop\\AMZN.csv\")\n",
    "df"
   ]
  },
  {
   "cell_type": "code",
   "execution_count": 36,
   "metadata": {},
   "outputs": [
    {
     "data": {
      "text/plain": [
       "0        80.510002\n",
       "1        88.089996\n",
       "2        87.250000\n",
       "3        86.690002\n",
       "4        88.029999\n",
       "           ...    \n",
       "1984    691.359985\n",
       "1985    707.950012\n",
       "1986    715.599976\n",
       "1987    715.619995\n",
       "1988    725.679993\n",
       "Name: Adj Close, Length: 1989, dtype: float64"
      ]
     },
     "execution_count": 36,
     "metadata": {},
     "output_type": "execute_result"
    }
   ],
   "source": [
    "df_d = df.reset_index()['Adj Close']\n",
    "df_d"
   ]
  },
  {
   "cell_type": "code",
   "execution_count": 37,
   "metadata": {},
   "outputs": [
    {
     "name": "stdout",
     "output_type": "stream",
     "text": [
      "Enter the number of future price Days: 30\n"
     ]
    },
    {
     "data": {
      "text/plain": [
       "1984   NaN\n",
       "1985   NaN\n",
       "1986   NaN\n",
       "1987   NaN\n",
       "1988   NaN\n",
       "Name: Adj Close, dtype: float64"
      ]
     },
     "execution_count": 37,
     "metadata": {},
     "output_type": "execute_result"
    }
   ],
   "source": [
    "predict_days = int(input(\"Enter the number of future price Days: \"))\n",
    "df_d1 = df_d.shift(-predict_days)\n",
    "df_d1.tail()"
   ]
  },
  {
   "cell_type": "code",
   "execution_count": 39,
   "metadata": {},
   "outputs": [
    {
     "name": "stdout",
     "output_type": "stream",
     "text": [
      "[ 80.510002  88.089996  87.25     ... 695.27002  697.450012 698.52002 ]\n"
     ]
    }
   ],
   "source": [
    "x = np.array(df_d)\n",
    "x = x[:-predict_days]\n",
    "print(x)"
   ]
  },
  {
   "cell_type": "code",
   "execution_count": 53,
   "metadata": {},
   "outputs": [
    {
     "data": {
      "text/plain": [
       "1959"
      ]
     },
     "execution_count": 53,
     "metadata": {},
     "output_type": "execute_result"
    }
   ],
   "source": [
    "len(x)"
   ]
  },
  {
   "cell_type": "code",
   "execution_count": 40,
   "metadata": {
    "scrolled": true
   },
   "outputs": [
    {
     "name": "stdout",
     "output_type": "stream",
     "text": [
      "[ 74.93      71.760002  69.959999 ... 715.599976 715.619995 725.679993]\n"
     ]
    }
   ],
   "source": [
    "y = np.array(df_d1)\n",
    "y = y[:-predict_days]\n",
    "print(y)"
   ]
  },
  {
   "cell_type": "code",
   "execution_count": 54,
   "metadata": {},
   "outputs": [
    {
     "data": {
      "text/plain": [
       "1959"
      ]
     },
     "execution_count": 54,
     "metadata": {},
     "output_type": "execute_result"
    }
   ],
   "source": [
    "len(y)"
   ]
  },
  {
   "cell_type": "code",
   "execution_count": 41,
   "metadata": {},
   "outputs": [
    {
     "data": {
      "text/plain": [
       "(1959, 1)"
      ]
     },
     "execution_count": 41,
     "metadata": {},
     "output_type": "execute_result"
    }
   ],
   "source": [
    "from sklearn.preprocessing import MinMaxScaler\n",
    "scaler = MinMaxScaler(feature_range=(0,1))\n",
    "x = scaler.fit_transform(np.array(x).reshape(-1,1))\n",
    "x.shape"
   ]
  },
  {
   "cell_type": "code",
   "execution_count": 42,
   "metadata": {},
   "outputs": [
    {
     "data": {
      "text/plain": [
       "(1959, 1)"
      ]
     },
     "execution_count": 42,
     "metadata": {},
     "output_type": "execute_result"
    }
   ],
   "source": [
    "from sklearn.preprocessing import MinMaxScaler\n",
    "scaler = MinMaxScaler(feature_range=(0,1))\n",
    "y = scaler.fit_transform(np.array(y).reshape(-1,1))\n",
    "y.shape"
   ]
  },
  {
   "cell_type": "code",
   "execution_count": 43,
   "metadata": {},
   "outputs": [],
   "source": [
    "x_train, x_test, y_train, y_test = train_test_split(x, y, test_size = 0.2)"
   ]
  },
  {
   "cell_type": "code",
   "execution_count": 44,
   "metadata": {},
   "outputs": [
    {
     "name": "stderr",
     "output_type": "stream",
     "text": [
      "C:\\Users\\Owner\\anaconda3\\lib\\site-packages\\sklearn\\utils\\validation.py:760: DataConversionWarning: A column-vector y was passed when a 1d array was expected. Please change the shape of y to (n_samples, ), for example using ravel().\n",
      "  y = column_or_1d(y, warn=True)\n",
      "C:\\Users\\Owner\\anaconda3\\lib\\site-packages\\sklearn\\utils\\validation.py:760: DataConversionWarning: A column-vector y was passed when a 1d array was expected. Please change the shape of y to (n_samples, ), for example using ravel().\n",
      "  y = column_or_1d(y, warn=True)\n",
      "C:\\Users\\Owner\\anaconda3\\lib\\site-packages\\sklearn\\utils\\validation.py:760: DataConversionWarning: A column-vector y was passed when a 1d array was expected. Please change the shape of y to (n_samples, ), for example using ravel().\n",
      "  y = column_or_1d(y, warn=True)\n"
     ]
    },
    {
     "data": {
      "text/plain": [
       "SVR(C=1000.0, cache_size=200, coef0=0.0, degree=3, epsilon=0.1, gamma=0.1,\n",
       "    kernel='rbf', max_iter=-1, shrinking=True, tol=0.001, verbose=False)"
      ]
     },
     "execution_count": 44,
     "metadata": {},
     "output_type": "execute_result"
    }
   ],
   "source": [
    "svr_linear = SVR(kernel = 'linear', C = 1e3, gamma = 0.1)\n",
    "svr_linear.fit(x_train, y_train)\n",
    "\n",
    "svr_poly = SVR(kernel = 'poly', C = 1e3, gamma = 0.1)\n",
    "svr_poly.fit(x_train, y_train)\n",
    "\n",
    "svr_rbf = SVR(kernel = 'rbf', C = 1e3, gamma = 0.1)\n",
    "svr_rbf.fit(x_train, y_train)"
   ]
  },
  {
   "cell_type": "code",
   "execution_count": 45,
   "metadata": {},
   "outputs": [
    {
     "name": "stdout",
     "output_type": "stream",
     "text": [
      "SVM Confidence with Linear:  0.9567753442090436\n",
      "SVM Confidence with Polynomial:  0.7072353937250698\n",
      "SVM Confidence with Rbf:  0.9543233830365968\n"
     ]
    }
   ],
   "source": [
    "svm_confidence_linear = svr_linear.score(x_test, y_test)\n",
    "print(\"SVM Confidence with Linear: \", svm_confidence_linear)\n",
    "\n",
    "svm_confidence_poly = svr_poly.score(x_test, y_test)\n",
    "print(\"SVM Confidence with Polynomial: \", svm_confidence_poly)\n",
    "\n",
    "svm_confidence_rbf = svr_rbf.score(x_test, y_test)\n",
    "print(\"SVM Confidence with Rbf: \", svm_confidence_rbf)"
   ]
  },
  {
   "cell_type": "code",
   "execution_count": 46,
   "metadata": {},
   "outputs": [
    {
     "data": {
      "text/plain": [
       "LinearRegression(copy_X=True, fit_intercept=True, n_jobs=None, normalize=False)"
      ]
     },
     "execution_count": 46,
     "metadata": {},
     "output_type": "execute_result"
    }
   ],
   "source": [
    "lr = LinearRegression()\n",
    "lr.fit(x_train, y_train)"
   ]
  },
  {
   "cell_type": "code",
   "execution_count": 47,
   "metadata": {},
   "outputs": [
    {
     "data": {
      "text/plain": [
       "DecisionTreeRegressor(ccp_alpha=0.0, criterion='mse', max_depth=None,\n",
       "                      max_features=None, max_leaf_nodes=None,\n",
       "                      min_impurity_decrease=0.0, min_impurity_split=None,\n",
       "                      min_samples_leaf=1, min_samples_split=2,\n",
       "                      min_weight_fraction_leaf=0.0, presort='deprecated',\n",
       "                      random_state=None, splitter='best')"
      ]
     },
     "execution_count": 47,
     "metadata": {},
     "output_type": "execute_result"
    }
   ],
   "source": [
    "tree = DecisionTreeRegressor()\n",
    "tree.fit(x_train, y_train)"
   ]
  },
  {
   "cell_type": "code",
   "execution_count": 60,
   "metadata": {},
   "outputs": [
    {
     "name": "stdout",
     "output_type": "stream",
     "text": [
      "Linear Regression with Confidence Score:  0.9618274150249507\n",
      "Decision Tree with Confidence Score:  0.942927417067897\n"
     ]
    }
   ],
   "source": [
    "lr_score = lr.score(x_test, y_test)\n",
    "print(\"Linear Regression with Confidence Score: \", lr_score)\n",
    "\n",
    "tree_score = tree.score(x_test, y_test)\n",
    "print(\"Decision Tree with Confidence Score: \", tree_score)"
   ]
  },
  {
   "cell_type": "code",
   "execution_count": 61,
   "metadata": {},
   "outputs": [
    {
     "data": {
      "text/plain": [
       "(30, 1)"
      ]
     },
     "execution_count": 61,
     "metadata": {},
     "output_type": "execute_result"
    }
   ],
   "source": [
    "x_predict = np.array(df_d)\n",
    "x_predict = x_predict[-predict_days:]\n",
    "scaler = MinMaxScaler(feature_range=(0,1))\n",
    "x_predict = scaler.fit_transform(np.array(x_predict).reshape(-1,1))\n",
    "x_predict.shape"
   ]
  },
  {
   "cell_type": "code",
   "execution_count": 62,
   "metadata": {},
   "outputs": [
    {
     "name": "stderr",
     "output_type": "stream",
     "text": [
      "C:\\Users\\Owner\\anaconda3\\lib\\site-packages\\sklearn\\preprocessing\\_data.py:375: RuntimeWarning: All-NaN slice encountered\n",
      "  data_min = np.nanmin(X, axis=0)\n",
      "C:\\Users\\Owner\\anaconda3\\lib\\site-packages\\sklearn\\preprocessing\\_data.py:376: RuntimeWarning: All-NaN slice encountered\n",
      "  data_max = np.nanmax(X, axis=0)\n"
     ]
    },
    {
     "data": {
      "text/plain": [
       "(30, 1)"
      ]
     },
     "execution_count": 62,
     "metadata": {},
     "output_type": "execute_result"
    }
   ],
   "source": [
    "y_predict = np.array(df_d1)\n",
    "y_predict = y_predict[-predict_days:]\n",
    "scaler = MinMaxScaler(feature_range=(0,1))\n",
    "y_predict = scaler.fit_transform(np.array(y_predict).reshape(-1,1))\n",
    "y_predict.shape"
   ]
  },
  {
   "cell_type": "code",
   "execution_count": 63,
   "metadata": {},
   "outputs": [
    {
     "name": "stdout",
     "output_type": "stream",
     "text": [
      "[[0.31019527]\n",
      " [0.14615006]\n",
      " [0.34815687]\n",
      " [0.46068299]\n",
      " [0.63855707]\n",
      " [0.56616058]\n",
      " [0.85222312]\n",
      " [0.76138864]\n",
      " [1.        ]\n",
      " [0.92678927]\n",
      " [0.95905613]\n",
      " [0.87798266]\n",
      " [0.95661674]\n",
      " [0.98400309]\n",
      " [0.71990196]\n",
      " [0.64750547]\n",
      " [0.75759217]\n",
      " [0.62093335]\n",
      " [0.70905698]\n",
      " [0.40753872]\n",
      " [0.61415461]\n",
      " [0.66323261]\n",
      " [0.52169166]\n",
      " [0.83297256]\n",
      " [0.20607473]\n",
      " [0.        ]\n",
      " [0.44983798]\n",
      " [0.65726648]\n",
      " [0.65780929]\n",
      " [0.93058577]]\n"
     ]
    }
   ],
   "source": [
    "print(x_predict)"
   ]
  },
  {
   "cell_type": "code",
   "execution_count": 64,
   "metadata": {},
   "outputs": [
    {
     "name": "stdout",
     "output_type": "stream",
     "text": [
      "[[nan]\n",
      " [nan]\n",
      " [nan]\n",
      " [nan]\n",
      " [nan]\n",
      " [nan]\n",
      " [nan]\n",
      " [nan]\n",
      " [nan]\n",
      " [nan]\n",
      " [nan]\n",
      " [nan]\n",
      " [nan]\n",
      " [nan]\n",
      " [nan]\n",
      " [nan]\n",
      " [nan]\n",
      " [nan]\n",
      " [nan]\n",
      " [nan]\n",
      " [nan]\n",
      " [nan]\n",
      " [nan]\n",
      " [nan]\n",
      " [nan]\n",
      " [nan]\n",
      " [nan]\n",
      " [nan]\n",
      " [nan]\n",
      " [nan]]\n"
     ]
    }
   ],
   "source": [
    "print(y_predict)"
   ]
  },
  {
   "cell_type": "code",
   "execution_count": 66,
   "metadata": {},
   "outputs": [
    {
     "name": "stdout",
     "output_type": "stream",
     "text": [
      "[[0.31867464]\n",
      " [0.15244986]\n",
      " [0.35714062]\n",
      " [0.47116181]\n",
      " [0.65139921]\n",
      " [0.57804082]\n",
      " [0.86790412]\n",
      " [0.77586278]\n",
      " [1.01764443]\n",
      " [0.94346099]\n",
      " [0.97615656]\n",
      " [0.89400592]\n",
      " [0.97368476]\n",
      " [1.00143498]\n",
      " [0.73382488]\n",
      " [0.6604665 ]\n",
      " [0.77201586]\n",
      " [0.63354133]\n",
      " [0.72283581]\n",
      " [0.41731144]\n",
      " [0.62667252]\n",
      " [0.6764026 ]\n",
      " [0.53298107]\n",
      " [0.84839778]\n",
      " [0.21317071]\n",
      " [0.00435798]\n",
      " [0.46017271]\n",
      " [0.6703572 ]\n",
      " [0.67090722]\n",
      " [0.94730794]]\n",
      "[0.22954083 0.12947736 0.332814   0.53282558 0.69724903 0.5804302\n",
      " 0.90490618 0.80721568 0.95776176 0.86210533 0.68096247 0.77116601\n",
      " 0.68096247 0.9707304  0.69511407 0.69724903 0.93596455 0.67185989\n",
      " 0.72816318 0.40045586 0.67185989 0.66575787 0.57927612 0.96532079\n",
      " 0.2253574  0.027452   0.39119458 0.69672973 0.69672973 0.7459067 ]\n"
     ]
    }
   ],
   "source": [
    "lr_prediction = lr.predict(x_predict)\n",
    "print(lr_prediction)\n",
    "\n",
    "tree_prediction = tree.predict(x_predict)\n",
    "print(tree_prediction)"
   ]
  },
  {
   "cell_type": "code",
   "execution_count": 69,
   "metadata": {},
   "outputs": [],
   "source": [
    "test_day = np.arange(1, 31)"
   ]
  },
  {
   "cell_type": "code",
   "execution_count": 71,
   "metadata": {},
   "outputs": [],
   "source": [
    "import matplotlib.pyplot as plt"
   ]
  },
  {
   "cell_type": "code",
   "execution_count": 72,
   "metadata": {},
   "outputs": [
    {
     "data": {
      "text/plain": [
       "[<matplotlib.lines.Line2D at 0x1dce1045588>]"
      ]
     },
     "execution_count": 72,
     "metadata": {},
     "output_type": "execute_result"
    },
    {
     "data": {
      "image/png": "[encoded data removed]",
      "text/plain": [
       "<Figure size 432x288 with 1 Axes>"
      ]
     },
     "metadata": {
      "needs_background": "light"
     },
     "output_type": "display_data"
    }
   ],
   "source": [
    "plt.plot(test_day, lr_prediction)\n",
    "plt.plot(test_day, tree_prediction)"
   ]
  },
  {
   "cell_type": "code",
   "execution_count": null,
   "metadata": {},
   "outputs": [],
   "source": []
  }
 ],
 "metadata": {
  "kernelspec": {
   "display_name": "Python 3",
   "language": "python",
   "name": "python3"
  },
  "language_info": {
   "codemirror_mode": {
    "name": "ipython",
    "version": 3
   },
   "file_extension": ".py",
   "mimetype": "text/x-python",
   "name": "python",
   "nbconvert_exporter": "python",
   "pygments_lexer": "ipython3",
   "version": "3.7.6"
  }
 },
 "nbformat": 4,
 "nbformat_minor": 4
}
